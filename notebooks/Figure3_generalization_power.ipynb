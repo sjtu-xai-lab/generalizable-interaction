{
 "cells": [
  {
   "cell_type": "code",
   "execution_count": 7,
   "id": "initial_id",
   "metadata": {
    "collapsed": true
   },
   "outputs": [],
   "source": [
    "import json\n",
    "import os\n",
    "import sys\n",
    "par_dir = os.path.dirname(os.path.realpath(\".\"))\n",
    "sys.path.append(os.path.join(par_dir))\n",
    "import pickle\n",
    "from matplotlib import pyplot as plt\n",
    "from utils import get_transferability, get_transferability_for_baseline, plot_sparsify_contrast_baseline, get_inds\n",
    "import numpy as np\n",
    "import matplotlib.pyplot as plt\n",
    "import matplotlib.ticker as mtick\n",
    "%matplotlib inline\n"
   ]
  },
  {
   "cell_type": "code",
   "execution_count": 8,
   "id": "b826e9af",
   "metadata": {},
   "outputs": [],
   "source": [
    "def plot_generalization(thress, disjoint_and, joint_and, disjoint_or, joint_or, baseline = None, title = None, get_legend = False, xticks = range(50, 500, 100), verbose = False):\n",
    "\n",
    "    plt.figure()\n",
    "    aw = 3\n",
    "    fs = 20\n",
    "    width = 3\n",
    "    # plt.tick_params(axis='both', which='major', width=3.5, length=10)\n",
    "    plt.rc('axes', linewidth=aw)\n",
    "    plt.xticks(fontsize=fs)\n",
    "    plt.yticks(fontsize=fs)\n",
    "    plt.rcParams['xtick.major.width'] = aw\n",
    "    plt.rcParams['ytick.major.width'] = aw\n",
    "    plt.rcParams['xtick.major.size'] = 7\n",
    "    plt.rcParams['ytick.major.size'] = 7\n",
    "    plt.rcParams['font.size'] = fs\n",
    "    ax = plt.gca()\n",
    "\n",
    "    plt.rcParams['font.size'] = fs\n",
    "    plt.rcParams['xtick.labelsize'] = fs\n",
    "    plt.rcParams['ytick.labelsize'] = fs\n",
    "    plt.xticks(xticks)\n",
    "    plt.xlabel(\"# of salient interactions\",fontdict={'fontsize': 25})\n",
    "    \n",
    "    plt.plot(thress, disjoint_and, label='And interaction (traditional)', color='#3A87BC', linestyle='--',marker='o',linewidth=width)\n",
    "    plt.plot(thress, joint_and, label='And interaction (ours)', color='#3A87BC',marker='o',linewidth=width)\n",
    "    \n",
    "    if verbose:\n",
    "        for i, txt in enumerate(disjoint_and):\n",
    "            plt.annotate(np.around(txt,2), (thress[i], disjoint_and[i]))\n",
    "        for i, txt in enumerate(joint_and):\n",
    "            plt.annotate(np.around(txt,2), (thress[i], joint_and[i]))\n",
    "\n",
    "    \n",
    "    if baseline:\n",
    "        plt.plot(thress, baseline, label='And interaction (baseline)', color='green', linestyle='--',marker='o',linewidth=width)\n",
    "    plt.plot(thress, disjoint_or, label='Or interaction (traditional)', color=\"#FF9230\", linestyle='--',marker='o',linewidth=width)\n",
    "    plt.plot(thress, joint_or, label='Or interaction (ours)', color=\"#FF9230\",marker='o',linewidth=width)\n",
    "\n",
    "    for tick in plt.gca().xaxis.get_major_ticks():\n",
    "        tick.label1.set_fontweight('bold')\n",
    "    for tick in plt.gca().yaxis.get_major_ticks():\n",
    "        tick.label1.set_fontweight('bold')\n",
    "    for tick in plt.gca().xaxis.get_major_ticks():\n",
    "        tick.label1.set_fontweight('bold')\n",
    "    for tick in plt.gca().yaxis.get_major_ticks():\n",
    "        tick.label1.set_fontweight('bold')\n",
    "    \n",
    "    if title:\n",
    "        plt.title(title, pad=20, fontdict={'fontsize': 25})\n",
    "\n",
    "\n",
    "    plt.show()\n",
    "    \n",
    "    if get_legend:\n",
    "        figsize = (10, 10)\n",
    "        fig_leg = plt.figure(figsize=figsize)\n",
    "        ax_leg = fig_leg.add_subplot(111)\n",
    "        # add the legend from the previous axes\n",
    "        ax_leg.legend(*ax.get_legend_handles_labels(), loc='center')\n",
    "        # hide the axes frame and the x/y labels\n",
    "        ax_leg.axis('off')\n",
    "        plt.show()\n",
    "        plt.close()\n",
    "    plt.close()"
   ]
  },
  {
   "cell_type": "markdown",
   "id": "6a8e77fe",
   "metadata": {},
   "source": [
    "## BERT-Base VS. BERT-Large on SST2"
   ]
  },
  {
   "cell_type": "code",
   "execution_count": 9,
   "id": "ef9d214d",
   "metadata": {},
   "outputs": [
    {
     "name": "stdout",
     "output_type": "stream",
     "text": [
      "{'disjoint': {'bert-base': '/data1/cl/generalizable-interaction/output/task1/traditional/base', 'bert-large': '/data1/cl/generalizable-interaction/output/task1/traditional/large'}, 'joint': '/data1/cl/generalizable-interaction/output/task1/generalizable', 'baseline_base': '/data1/cl/distillation/output/base/2023-11-14-19-59-58_q_tricks_False/PAD', 'baseline_large': '/data1/cl/distillation/output/large/2023-11-14-20-23-56_q_tricks_False/PAD'}\n"
     ]
    }
   ],
   "source": [
    "# Constants\n",
    "\n",
    "data_path = json.load(open('outputPaths_sst2.json', 'r'))\n",
    "bert_base_disjoint_path = data_path['disjoint']['bert-base']\n",
    "bert_large_disjoint_path = data_path['disjoint']['bert-large']\n",
    "print(data_path)\n",
    "joint_path = data_path['joint']\n",
    "\n",
    "baseline_base = data_path['baseline_base']\n",
    "baseline_large = data_path['baseline_large']\n",
    "\n",
    "\n",
    "inds = get_inds(joint_path)\n",
    "\n",
    "labels = ['ours', 'traditional method']\n",
    "\n",
    "log = False\n",
    "alphas = [0.0, 0.1, 0.2, 0.4, 0.6, 0.8, 1.0]\n",
    "\n",
    "thress = np.arange(0.05, 0.5, 0.05)\n",
    "interaction_num = 1024"
   ]
  },
  {
   "cell_type": "code",
   "execution_count": 10,
   "id": "195ccb62",
   "metadata": {},
   "outputs": [
    {
     "name": "stdout",
     "output_type": "stream",
     "text": [
      "num of salient interaction: 51\n"
     ]
    },
    {
     "name": "stderr",
     "output_type": "stream",
     "text": [
      "ind: 100%|██████████| 200/200 [00:00<00:00, 241.14it/s]\n",
      "ind: 100%|██████████| 200/200 [00:00<00:00, 218.31it/s]\n",
      "ind: 100%|██████████| 200/200 [00:00<00:00, 361.41it/s]\n"
     ]
    },
    {
     "name": "stdout",
     "output_type": "stream",
     "text": [
      "num of salient interaction: 102\n"
     ]
    },
    {
     "name": "stderr",
     "output_type": "stream",
     "text": [
      "ind: 100%|██████████| 200/200 [00:00<00:00, 247.52it/s]\n",
      "ind: 100%|██████████| 200/200 [00:00<00:00, 239.33it/s]\n",
      "ind: 100%|██████████| 200/200 [00:00<00:00, 352.09it/s]\n"
     ]
    },
    {
     "name": "stdout",
     "output_type": "stream",
     "text": [
      "num of salient interaction: 153\n"
     ]
    },
    {
     "name": "stderr",
     "output_type": "stream",
     "text": [
      "ind: 100%|██████████| 200/200 [00:00<00:00, 249.55it/s]\n",
      "ind: 100%|██████████| 200/200 [00:00<00:00, 209.19it/s]\n",
      "ind: 100%|██████████| 200/200 [00:00<00:00, 313.67it/s]\n"
     ]
    },
    {
     "name": "stdout",
     "output_type": "stream",
     "text": [
      "num of salient interaction: 204\n"
     ]
    },
    {
     "name": "stderr",
     "output_type": "stream",
     "text": [
      "ind: 100%|██████████| 200/200 [00:00<00:00, 210.47it/s]\n",
      "ind: 100%|██████████| 200/200 [00:00<00:00, 206.63it/s]\n",
      "ind: 100%|██████████| 200/200 [00:00<00:00, 333.89it/s]\n"
     ]
    },
    {
     "name": "stdout",
     "output_type": "stream",
     "text": [
      "num of salient interaction: 256\n"
     ]
    },
    {
     "name": "stderr",
     "output_type": "stream",
     "text": [
      "ind: 100%|██████████| 200/200 [00:00<00:00, 212.91it/s]\n",
      "ind: 100%|██████████| 200/200 [00:00<00:00, 229.50it/s]\n",
      "ind: 100%|██████████| 200/200 [00:00<00:00, 306.25it/s]\n"
     ]
    },
    {
     "name": "stdout",
     "output_type": "stream",
     "text": [
      "num of salient interaction: 307\n"
     ]
    },
    {
     "name": "stderr",
     "output_type": "stream",
     "text": [
      "ind: 100%|██████████| 200/200 [00:00<00:00, 212.29it/s]\n",
      "ind: 100%|██████████| 200/200 [00:00<00:00, 210.50it/s]\n",
      "ind: 100%|██████████| 200/200 [00:00<00:00, 294.80it/s]\n"
     ]
    },
    {
     "name": "stdout",
     "output_type": "stream",
     "text": [
      "num of salient interaction: 358\n"
     ]
    },
    {
     "name": "stderr",
     "output_type": "stream",
     "text": [
      "ind: 100%|██████████| 200/200 [00:00<00:00, 221.51it/s]\n",
      "ind: 100%|██████████| 200/200 [00:00<00:00, 212.40it/s]\n",
      "ind: 100%|██████████| 200/200 [00:00<00:00, 319.32it/s]\n"
     ]
    },
    {
     "name": "stdout",
     "output_type": "stream",
     "text": [
      "num of salient interaction: 409\n"
     ]
    },
    {
     "name": "stderr",
     "output_type": "stream",
     "text": [
      "ind: 100%|██████████| 200/200 [00:00<00:00, 222.72it/s]\n",
      "ind: 100%|██████████| 200/200 [00:00<00:00, 205.45it/s]\n",
      "ind: 100%|██████████| 200/200 [00:00<00:00, 291.48it/s]\n"
     ]
    },
    {
     "name": "stdout",
     "output_type": "stream",
     "text": [
      "num of salient interaction: 460\n"
     ]
    },
    {
     "name": "stderr",
     "output_type": "stream",
     "text": [
      "ind: 100%|██████████| 200/200 [00:00<00:00, 200.12it/s]\n",
      "ind: 100%|██████████| 200/200 [00:01<00:00, 199.49it/s]\n",
      "ind: 100%|██████████| 200/200 [00:00<00:00, 288.92it/s]"
     ]
    },
    {
     "name": "stdout",
     "output_type": "stream",
     "text": [
      "disjoint_and_max_thres:0.45\n",
      "joint_and_max_thres:0.45\n"
     ]
    },
    {
     "name": "stderr",
     "output_type": "stream",
     "text": [
      "\n"
     ]
    }
   ],
   "source": [
    "disjoint_and = []\n",
    "disjoint_or = []\n",
    "\n",
    "joint_and = []\n",
    "joint_or = []\n",
    "\n",
    "baseline_and = []\n",
    "\n",
    "\n",
    "for thres in thress:\n",
    "    salient_fixed_num = int(interaction_num * thres)  # fix the number of salient interaction by thres\n",
    "    print(\"num of salient interaction:\", salient_fixed_num)\n",
    "\n",
    "    # add an 'output_path' to 'get_transferability_for_baseline' to save the results to local (.csv)\n",
    "    df_joint = get_transferability_for_baseline(data_path=joint_path, inds=inds, salient_fixed_num=salient_fixed_num,\n",
    "                                   string=f\"baseline_joint_{thres}.csv\",\n",
    "                                   add_or=True)\n",
    "\n",
    "    df_disjoint = get_transferability_for_baseline(data_path=(bert_base_disjoint_path, bert_large_disjoint_path), inds=inds,\n",
    "                                      salient_fixed_num=salient_fixed_num, string= f\"baseline_disjoint_{thres}.csv\", add_or=True)\n",
    "\n",
    "    df_baseline = get_transferability_for_baseline(data_path=(baseline_base, baseline_large), inds=inds,\n",
    "                                        salient_fixed_num=salient_fixed_num, string=f\"baseline_baseline_disjoint_{thres}.csv\", add_or=False, prefix = True) \n",
    "    \n",
    "    disjoint_and.append(df_disjoint['And percent'].mean())\n",
    "    disjoint_or.append(df_disjoint['Or percent'].mean())\n",
    "    joint_and.append(df_joint['And percent'].mean())\n",
    "    joint_or.append(df_joint['Or percent'].mean())\n",
    "    baseline_and.append(df_baseline['And percent'].mean())\n",
    "\n",
    "disjoint_and_max_thres = thress[np.argsort(disjoint_and)[-1]]\n",
    "disjoint_or_max_thres = thress[np.argsort(disjoint_or)[-1]]\n",
    "\n",
    "joint_and_max_thres = thress[np.argsort(joint_and)[-1]]\n",
    "joint_or_max_thres = thress[np.argsort(joint_or)[-1]]\n",
    "\n",
    "print(f\"disjoint_and_max_thres:{disjoint_and_max_thres}\")\n",
    "print(f\"joint_and_max_thres:{joint_and_max_thres}\")"
   ]
  },
  {
   "cell_type": "code",
   "execution_count": 11,
   "id": "ec462213",
   "metadata": {},
   "outputs": [
    {
     "data": {
      "image/png": "[encoded data removed]",
      "text/plain": [
       "<Figure size 432x288 with 1 Axes>"
      ]
     },
     "metadata": {
      "needs_background": "light"
     },
     "output_type": "display_data"
    }
   ],
   "source": [
    "plot_generalization(interaction_num * thress, disjoint_and, joint_and, disjoint_or, joint_or, baseline_and, \"Task 1: Sentiment Classification\")"
   ]
  },
  {
   "cell_type": "markdown",
   "id": "48966b44",
   "metadata": {},
   "source": [
    "## LlaMa VS. OPT-1.3B on SQuAD"
   ]
  },
  {
   "cell_type": "code",
   "execution_count": 12,
   "id": "facfe903",
   "metadata": {},
   "outputs": [],
   "source": [
    "model_names = ['llama', 'opt']  # 模型名称\n",
    "model_name_print = ['LLaMA', 'OPT-1.3B']\n",
    "data_path = json.load(open('outputPaths_squad.json', 'r'))\n",
    "\n",
    "\n",
    "DataPaths = {\n",
    "    'llama': data_path[\"disjoint\"][\"llama\"],\n",
    "    'opt': data_path[\"disjoint\"][\"opt\"],\n",
    "    'joint_llama_opt_05': data_path[\"joint\"]\n",
    "}  \n",
    "\n",
    "joint_path = data_path['joint']\n",
    "llama_disjoint_path = data_path['disjoint']['llama']\n",
    "opt_disjoint_path = data_path['disjoint']['opt']\n",
    "inds = get_inds(joint_path, dataset=\"squad\")\n",
    "inds.sort()\n",
    "inds = inds[:200]\n"
   ]
  },
  {
   "cell_type": "code",
   "execution_count": 13,
   "id": "318d3431",
   "metadata": {},
   "outputs": [
    {
     "name": "stdout",
     "output_type": "stream",
     "text": [
      "num of salient interaction: 51\n"
     ]
    },
    {
     "name": "stderr",
     "output_type": "stream",
     "text": [
      "ind: 100%|██████████| 200/200 [00:00<00:00, 268.39it/s]\n",
      "ind: 100%|██████████| 200/200 [00:00<00:00, 268.37it/s]\n"
     ]
    },
    {
     "name": "stdout",
     "output_type": "stream",
     "text": [
      "num of salient interaction: 102\n"
     ]
    },
    {
     "name": "stderr",
     "output_type": "stream",
     "text": [
      "ind: 100%|██████████| 200/200 [00:00<00:00, 269.36it/s]\n",
      "ind: 100%|██████████| 200/200 [00:00<00:00, 268.74it/s]\n"
     ]
    },
    {
     "name": "stdout",
     "output_type": "stream",
     "text": [
      "num of salient interaction: 153\n"
     ]
    },
    {
     "name": "stderr",
     "output_type": "stream",
     "text": [
      "ind: 100%|██████████| 200/200 [00:00<00:00, 263.03it/s]\n",
      "ind: 100%|██████████| 200/200 [00:00<00:00, 263.05it/s]\n"
     ]
    },
    {
     "name": "stdout",
     "output_type": "stream",
     "text": [
      "num of salient interaction: 204\n"
     ]
    },
    {
     "name": "stderr",
     "output_type": "stream",
     "text": [
      "ind: 100%|██████████| 200/200 [00:00<00:00, 266.74it/s]\n",
      "ind: 100%|██████████| 200/200 [00:00<00:00, 248.61it/s]\n"
     ]
    },
    {
     "name": "stdout",
     "output_type": "stream",
     "text": [
      "num of salient interaction: 256\n"
     ]
    },
    {
     "name": "stderr",
     "output_type": "stream",
     "text": [
      "ind: 100%|██████████| 200/200 [00:00<00:00, 247.06it/s]\n",
      "ind: 100%|██████████| 200/200 [00:00<00:00, 245.30it/s]\n"
     ]
    },
    {
     "name": "stdout",
     "output_type": "stream",
     "text": [
      "num of salient interaction: 307\n"
     ]
    },
    {
     "name": "stderr",
     "output_type": "stream",
     "text": [
      "ind: 100%|██████████| 200/200 [00:00<00:00, 258.15it/s]\n",
      "ind: 100%|██████████| 200/200 [00:00<00:00, 259.54it/s]\n"
     ]
    },
    {
     "name": "stdout",
     "output_type": "stream",
     "text": [
      "num of salient interaction: 358\n"
     ]
    },
    {
     "name": "stderr",
     "output_type": "stream",
     "text": [
      "ind: 100%|██████████| 200/200 [00:00<00:00, 249.31it/s]\n",
      "ind: 100%|██████████| 200/200 [00:00<00:00, 238.90it/s]\n"
     ]
    },
    {
     "name": "stdout",
     "output_type": "stream",
     "text": [
      "num of salient interaction: 409\n"
     ]
    },
    {
     "name": "stderr",
     "output_type": "stream",
     "text": [
      "ind: 100%|██████████| 200/200 [00:00<00:00, 237.25it/s]\n",
      "ind: 100%|██████████| 200/200 [00:00<00:00, 231.25it/s]\n"
     ]
    },
    {
     "name": "stdout",
     "output_type": "stream",
     "text": [
      "num of salient interaction: 460\n"
     ]
    },
    {
     "name": "stderr",
     "output_type": "stream",
     "text": [
      "ind: 100%|██████████| 200/200 [00:00<00:00, 239.52it/s]\n",
      "ind: 100%|██████████| 200/200 [00:00<00:00, 257.10it/s]"
     ]
    },
    {
     "name": "stdout",
     "output_type": "stream",
     "text": [
      "disjoint_and_max_thres:0.45\n",
      "disjoint_or_max_thres:0.45\n",
      "joint_and_max_thres:0.45\n",
      "joint_or_max_thres:0.45\n"
     ]
    },
    {
     "name": "stderr",
     "output_type": "stream",
     "text": [
      "\n"
     ]
    }
   ],
   "source": [
    "epsilon = '05'  \n",
    "num_players = 10 \n",
    "interaction_num  = 1024\n",
    "thress = np.arange(0.05,0.5,0.05)\n",
    "\n",
    "disjoint_and = []\n",
    "disjoint_or = []\n",
    "joint_and = []\n",
    "joint_or = []\n",
    "\n",
    "for thres in thress:\n",
    "    salient_fixed_num = int(interaction_num * thres)  # 设置固定的显著交互个数，为交互个数的0.1倍\n",
    "    print(\"num of salient interaction:\", salient_fixed_num)\n",
    "\n",
    "    string = f\"joint_{thres}.csv\"\n",
    "    df_joint = get_transferability(data_path=joint_path, inds=inds, salient_fixed_num=salient_fixed_num, string=string, output_path=None, dataset = \"squad\", model_name=model_names)\n",
    "\n",
    "    string = f\"disjoint_{thres}.csv\"\n",
    "    df_disjoint = get_transferability(data_path=(llama_disjoint_path, opt_disjoint_path), inds=inds,\n",
    "                        salient_fixed_num=salient_fixed_num, string=string, output_path=None, dataset = \"squad\", model_name=model_names)\n",
    "\n",
    "    disjoint_and.append(df_disjoint['And percent'].mean())\n",
    "    disjoint_or.append(df_disjoint['Or percent'].mean())\n",
    "    joint_and.append(df_joint['And percent'].mean())\n",
    "    joint_or.append(df_joint['Or percent'].mean())\n",
    "\n",
    "disjoint_and_max_thres = thress[np.argsort(disjoint_and)[-1]]\n",
    "disjoint_or_max_thres = thress[np.argsort(disjoint_or)[-1]]\n",
    "joint_and_max_thres = thress[np.argsort(joint_and)[-1]]\n",
    "joint_or_max_thres = thress[np.argsort(joint_or)[-1]]\n",
    "\n",
    "print(f\"disjoint_and_max_thres:{disjoint_and_max_thres}\")\n",
    "print(f\"disjoint_or_max_thres:{disjoint_or_max_thres}\")\n",
    "print(f\"joint_and_max_thres:{joint_and_max_thres}\")\n",
    "print(f\"joint_or_max_thres:{joint_or_max_thres}\")"
   ]
  },
  {
   "cell_type": "code",
   "execution_count": 14,
   "id": "6d1aee2f",
   "metadata": {},
   "outputs": [
    {
     "data": {
      "image/png": "[encoded data removed]",
      "text/plain": [
       "<Figure size 432x288 with 1 Axes>"
      ]
     },
     "metadata": {
      "needs_background": "light"
     },
     "output_type": "display_data"
    }
   ],
   "source": [
    "plot_generalization(interaction_num * thress, disjoint_and, joint_and, disjoint_or, joint_or, baseline=None, title = \"Task 2: Dialogue Task\", xticks =range(50,500,100))"
   ]
  },
  {
   "cell_type": "markdown",
   "id": "0169df25",
   "metadata": {},
   "source": [
    "## Resnet-20 VS. VGG-16 on MNIST"
   ]
  },
  {
   "cell_type": "code",
   "execution_count": 15,
   "id": "ef9d67cb",
   "metadata": {},
   "outputs": [
    {
     "name": "stdout",
     "output_type": "stream",
     "text": [
      "num of salient interaction: 12\n"
     ]
    },
    {
     "name": "stderr",
     "output_type": "stream",
     "text": [
      "ind: 100%|██████████| 100/100 [00:00<00:00, 287.31it/s]\n",
      "ind: 100%|██████████| 100/100 [00:10<00:00,  9.75it/s]\n"
     ]
    },
    {
     "name": "stdout",
     "output_type": "stream",
     "text": [
      "num of salient interaction: 25\n"
     ]
    },
    {
     "name": "stderr",
     "output_type": "stream",
     "text": [
      "ind: 100%|██████████| 100/100 [00:00<00:00, 261.85it/s]\n",
      "ind: 100%|██████████| 100/100 [00:00<00:00, 282.29it/s]\n"
     ]
    },
    {
     "name": "stdout",
     "output_type": "stream",
     "text": [
      "num of salient interaction: 38\n"
     ]
    },
    {
     "name": "stderr",
     "output_type": "stream",
     "text": [
      "ind: 100%|██████████| 100/100 [00:00<00:00, 279.90it/s]\n",
      "ind: 100%|██████████| 100/100 [00:00<00:00, 269.14it/s]\n"
     ]
    },
    {
     "name": "stdout",
     "output_type": "stream",
     "text": [
      "num of salient interaction: 51\n"
     ]
    },
    {
     "name": "stderr",
     "output_type": "stream",
     "text": [
      "ind: 100%|██████████| 100/100 [00:00<00:00, 250.19it/s]\n",
      "ind: 100%|██████████| 100/100 [00:00<00:00, 240.35it/s]\n"
     ]
    },
    {
     "name": "stdout",
     "output_type": "stream",
     "text": [
      "num of salient interaction: 64\n"
     ]
    },
    {
     "name": "stderr",
     "output_type": "stream",
     "text": [
      "ind: 100%|██████████| 100/100 [00:00<00:00, 255.91it/s]\n",
      "ind: 100%|██████████| 100/100 [00:00<00:00, 237.57it/s]\n"
     ]
    },
    {
     "name": "stdout",
     "output_type": "stream",
     "text": [
      "num of salient interaction: 76\n"
     ]
    },
    {
     "name": "stderr",
     "output_type": "stream",
     "text": [
      "ind: 100%|██████████| 100/100 [00:00<00:00, 256.47it/s]\n",
      "ind: 100%|██████████| 100/100 [00:00<00:00, 243.66it/s]\n"
     ]
    },
    {
     "name": "stdout",
     "output_type": "stream",
     "text": [
      "num of salient interaction: 89\n"
     ]
    },
    {
     "name": "stderr",
     "output_type": "stream",
     "text": [
      "ind: 100%|██████████| 100/100 [00:00<00:00, 249.43it/s]\n",
      "ind: 100%|██████████| 100/100 [00:00<00:00, 239.93it/s]\n"
     ]
    },
    {
     "name": "stdout",
     "output_type": "stream",
     "text": [
      "num of salient interaction: 102\n"
     ]
    },
    {
     "name": "stderr",
     "output_type": "stream",
     "text": [
      "ind: 100%|██████████| 100/100 [00:00<00:00, 257.66it/s]\n",
      "ind: 100%|██████████| 100/100 [00:00<00:00, 246.26it/s]\n"
     ]
    },
    {
     "name": "stdout",
     "output_type": "stream",
     "text": [
      "num of salient interaction: 115\n"
     ]
    },
    {
     "name": "stderr",
     "output_type": "stream",
     "text": [
      "ind: 100%|██████████| 100/100 [00:00<00:00, 246.55it/s]\n",
      "ind: 100%|██████████| 100/100 [00:00<00:00, 248.34it/s]\n"
     ]
    },
    {
     "name": "stdout",
     "output_type": "stream",
     "text": [
      "disjoint_and_max_thres:0.05\n",
      "disjoint_or_max_thres:0.45\n",
      "joint_and_max_thres:0.35000000000000003\n",
      "joint_or_max_thres:0.45\n"
     ]
    }
   ],
   "source": [
    "# path\n",
    "data_path = json.load(open('outputPaths_mnist.json', 'r'))\n",
    "bert_joint_path = data_path['joint']\n",
    "bert_base_disjoint_path = data_path['disjoint']['resnet20']  # ['bert-base']\n",
    "bert_large_disjoint_path = data_path['disjoint']['vgg16']  # ['bert-large']\n",
    "\n",
    "# inds\n",
    "bert_base_disjoint = get_inds(data_path['disjoint']['resnet20'], \"mnist\") \n",
    "bert_large_disjoint = get_inds(data_path['disjoint']['vgg16'], \"mnist\") \n",
    "bert_joint = get_inds(data_path['joint'], \"mnist\")[:100]  \n",
    "\n",
    "inds = bert_joint\n",
    "interaction_num = 256  # 2^8\n",
    "labels = ['ours', 'traditional method']\n",
    "\n",
    "log = False\n",
    "\n",
    "### hbh\n",
    "thress = np.arange(0.05, 0.5, 0.05)\n",
    "disjoint_and = []\n",
    "disjoint_or = []\n",
    "joint_and = []\n",
    "joint_or = []\n",
    "for thres in thress:\n",
    "    salient_fixed_num = int(interaction_num * thres)  # 设置固定的显著交互个数，为交互个数的0.1倍\n",
    "    print(\"num of salient interaction:\", salient_fixed_num)\n",
    "\n",
    "    string = f\"joint_{thres}.csv\"\n",
    "    df_joint = get_transferability(data_path=bert_joint_path, inds=inds, salient_fixed_num=salient_fixed_num,\n",
    "                                   string=string,\n",
    "                                   output_path=None, dataset=\"mnist\")\n",
    "\n",
    "    string = f\"disjoint_{thres}.csv\"\n",
    "    df_disjoint = get_transferability(data_path=(bert_base_disjoint_path, bert_large_disjoint_path), inds=inds,\n",
    "                                      salient_fixed_num=salient_fixed_num, string=string, output_path=None, dataset=\"mnist\")\n",
    "\n",
    "    disjoint_and.append(df_disjoint['And percent'].mean())\n",
    "    disjoint_or.append(df_disjoint['Or percent'].mean())\n",
    "    joint_and.append(df_joint['And percent'].mean())\n",
    "    joint_or.append(df_joint['Or percent'].mean())\n",
    "\n",
    "disjoint_and_max_thres = thress[np.argsort(disjoint_and)[-1]]\n",
    "disjoint_or_max_thres = thress[np.argsort(disjoint_or)[-1]]\n",
    "joint_and_max_thres = thress[np.argsort(joint_and)[-1]]\n",
    "joint_or_max_thres = thress[np.argsort(joint_or)[-1]]\n",
    "\n",
    "print(f\"disjoint_and_max_thres:{disjoint_and_max_thres}\")\n",
    "print(f\"disjoint_or_max_thres:{disjoint_or_max_thres}\")\n",
    "print(f\"joint_and_max_thres:{joint_and_max_thres}\")\n",
    "print(f\"joint_or_max_thres:{joint_or_max_thres}\")\n"
   ]
  },
  {
   "cell_type": "code",
   "execution_count": 16,
   "id": "94814cfb",
   "metadata": {},
   "outputs": [
    {
     "data": {
      "image/png": "[encoded data removed]",
      "text/plain": [
       "<Figure size 432x288 with 1 Axes>"
      ]
     },
     "metadata": {
      "needs_background": "light"
     },
     "output_type": "display_data"
    }
   ],
   "source": [
    "plot_generalization(interaction_num * thress, disjoint_and, joint_and, disjoint_or, joint_or, baseline=None, title = \"Task 3: Image Classification\", xticks = range(10,130,20))"
   ]
  }
 ],
 "metadata": {
  "kernelspec": {
   "display_name": "base",
   "language": "python",
   "name": "python3"
  },
  "language_info": {
   "codemirror_mode": {
    "name": "ipython",
    "version": 3
   },
   "file_extension": ".py",
   "mimetype": "text/x-python",
   "name": "python",
   "nbconvert_exporter": "python",
   "pygments_lexer": "ipython3",
   "version": "3.8.3"
  }
 },
 "nbformat": 4,
 "nbformat_minor": 5
}
